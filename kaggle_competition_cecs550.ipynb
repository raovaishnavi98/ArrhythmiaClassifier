{
 "cells": [
  {
   "cell_type": "code",
   "execution_count": 3,
   "metadata": {},
   "outputs": [],
   "source": [
    "import pandas as pd\n"
   ]
  },
  {
   "cell_type": "code",
   "execution_count": 16,
   "metadata": {},
   "outputs": [],
   "source": [
    "train_data = pd.read_csv('C:/Users/Asus/Downloads/csulb-cecs550-fall2022-ml-contest/Train.csv')\n",
    "test_data = pd.read_csv('C:/Users/Asus/Downloads/csulb-cecs550-fall2022-ml-contest/Test.csv')\n",
    "\n",
    "train_X = train_data.drop('Rhythm', axis=1)\n",
    "train_Y = train_data['Rhythm']\n",
    "\n",
    "from sklearn.preprocessing import LabelEncoder\n",
    "\n",
    "Encoder = LabelEncoder()\n",
    "\n",
    "\n",
    "train_X['Gender'] = Encoder.fit_transform(train_X['Gender'])\n",
    "\n",
    "# train_Y = Encoder.fit_transform(train_Y)\n",
    "\n"
   ]
  },
  {
   "cell_type": "code",
   "execution_count": 17,
   "metadata": {},
   "outputs": [],
   "source": [
    "# splitting the data btw train and test\n",
    "from sklearn.model_selection import train_test_split\n",
    "\n",
    "X_train, X_test, y_train, y_test = train_test_split(train_X, train_Y, test_size=0.2)"
   ]
  },
  {
   "cell_type": "code",
   "execution_count": 18,
   "metadata": {},
   "outputs": [],
   "source": [
    "# Standardize features\n",
    "\n",
    "from sklearn.preprocessing import StandardScaler\n",
    "scaler = StandardScaler()\n",
    "\n",
    "scaler.fit(X_train)\n",
    "X_train = scaler.transform(X_train)\n",
    "\n",
    "scaler.fit(X_test)\n",
    "X_test = scaler.transform(X_test)"
   ]
  },
  {
   "cell_type": "code",
   "execution_count": 19,
   "metadata": {},
   "outputs": [
    {
     "data": {
      "text/plain": [
       "0.7800134138162307"
      ]
     },
     "execution_count": 19,
     "metadata": {},
     "output_type": "execute_result"
    }
   ],
   "source": [
    "from sklearn.ensemble import GradientBoostingClassifier\n",
    "\n",
    "\n",
    "clf = GradientBoostingClassifier(n_estimators=100, learning_rate=1.0, max_depth=1, random_state=0).fit(X_train, y_train)\n",
    "clf.score(X_test, y_test)"
   ]
  },
  {
   "cell_type": "code",
   "execution_count": 21,
   "metadata": {},
   "outputs": [],
   "source": [
    "from sklearn.ensemble import GradientBoostingClassifier\n",
    "from sklearn.model_selection import GridSearchCV\n",
    "\n",
    "parameters = [{\"n_estimators\" : [100,150,200],\n",
    "               \"learning_rate\" : [0.1,0.09,0.01],\n",
    "                \"max_depth\" : [1,10]\n",
    "               }]\n",
    "grid_search_xgboost = GridSearchCV(estimator = clf,\n",
    "                           param_grid = parameters,\n",
    "                           scoring = 'accuracy',\n",
    "                           cv = 4,\n",
    "                           n_jobs = -1)\n",
    "grid_search_xgboost.fit(X_train, y_train)\n",
    "best_accuracy_xg = grid_search_xgboost.best_score_\n",
    "best_parameters = grid_search_xgboost.best_params_"
   ]
  },
  {
   "cell_type": "code",
   "execution_count": 22,
   "metadata": {},
   "outputs": [
    {
     "name": "stdout",
     "output_type": "stream",
     "text": [
      "best_accuracy : 86.91 %\n",
      "Best Parameters: {'learning_rate': 0.09, 'max_depth': 10, 'n_estimators': 200}\n"
     ]
    }
   ],
   "source": [
    "print(\"best_accuracy : {:.2f} %\".format(best_accuracy_xg*100))\n",
    "print(\"Best Parameters:\", best_parameters)"
   ]
  },
  {
   "cell_type": "code",
   "execution_count": 24,
   "metadata": {},
   "outputs": [
    {
     "name": "stderr",
     "output_type": "stream",
     "text": [
      "C:\\Users\\Asus\\AppData\\Local\\Packages\\PythonSoftwareFoundation.Python.3.10_qbz5n2kfra8p0\\LocalCache\\local-packages\\Python310\\site-packages\\sklearn\\base.py:443: UserWarning: X has feature names, but GradientBoostingClassifier was fitted without feature names\n",
      "  warnings.warn(\n"
     ]
    }
   ],
   "source": [
    "test_data['Gender'] = Encoder.fit_transform(test_data['Gender'])\n",
    "\n",
    "results = grid_search_xgboost.predict(test_data)"
   ]
  },
  {
   "cell_type": "code",
   "execution_count": 31,
   "metadata": {},
   "outputs": [
    {
     "data": {
      "text/html": [
       "<div>\n",
       "<style scoped>\n",
       "    .dataframe tbody tr th:only-of-type {\n",
       "        vertical-align: middle;\n",
       "    }\n",
       "\n",
       "    .dataframe tbody tr th {\n",
       "        vertical-align: top;\n",
       "    }\n",
       "\n",
       "    .dataframe thead th {\n",
       "        text-align: right;\n",
       "    }\n",
       "</style>\n",
       "<table border=\"1\" class=\"dataframe\">\n",
       "  <thead>\n",
       "    <tr style=\"text-align: right;\">\n",
       "      <th></th>\n",
       "      <th>patient_ID</th>\n",
       "      <th>Rhythm</th>\n",
       "    </tr>\n",
       "  </thead>\n",
       "  <tbody>\n",
       "    <tr>\n",
       "      <th>0</th>\n",
       "      <td>6332</td>\n",
       "      <td>AVRT</td>\n",
       "    </tr>\n",
       "    <tr>\n",
       "      <th>1</th>\n",
       "      <td>7727</td>\n",
       "      <td>AVRT</td>\n",
       "    </tr>\n",
       "    <tr>\n",
       "      <th>2</th>\n",
       "      <td>9062</td>\n",
       "      <td>AVRT</td>\n",
       "    </tr>\n",
       "    <tr>\n",
       "      <th>3</th>\n",
       "      <td>6131</td>\n",
       "      <td>AVRT</td>\n",
       "    </tr>\n",
       "    <tr>\n",
       "      <th>4</th>\n",
       "      <td>3081</td>\n",
       "      <td>AVRT</td>\n",
       "    </tr>\n",
       "    <tr>\n",
       "      <th>...</th>\n",
       "      <td>...</td>\n",
       "      <td>...</td>\n",
       "    </tr>\n",
       "    <tr>\n",
       "      <th>3189</th>\n",
       "      <td>9522</td>\n",
       "      <td>AVRT</td>\n",
       "    </tr>\n",
       "    <tr>\n",
       "      <th>3190</th>\n",
       "      <td>8898</td>\n",
       "      <td>AVRT</td>\n",
       "    </tr>\n",
       "    <tr>\n",
       "      <th>3191</th>\n",
       "      <td>5346</td>\n",
       "      <td>AVRT</td>\n",
       "    </tr>\n",
       "    <tr>\n",
       "      <th>3192</th>\n",
       "      <td>4016</td>\n",
       "      <td>AVRT</td>\n",
       "    </tr>\n",
       "    <tr>\n",
       "      <th>3193</th>\n",
       "      <td>5896</td>\n",
       "      <td>AVRT</td>\n",
       "    </tr>\n",
       "  </tbody>\n",
       "</table>\n",
       "<p>3194 rows × 2 columns</p>\n",
       "</div>"
      ],
      "text/plain": [
       "      patient_ID Rhythm\n",
       "0           6332   AVRT\n",
       "1           7727   AVRT\n",
       "2           9062   AVRT\n",
       "3           6131   AVRT\n",
       "4           3081   AVRT\n",
       "...          ...    ...\n",
       "3189        9522   AVRT\n",
       "3190        8898   AVRT\n",
       "3191        5346   AVRT\n",
       "3192        4016   AVRT\n",
       "3193        5896   AVRT\n",
       "\n",
       "[3194 rows x 2 columns]"
      ]
     },
     "execution_count": 31,
     "metadata": {},
     "output_type": "execute_result"
    }
   ],
   "source": [
    "results_df = pd.DataFrame(results, columns = ['Rhythm'])\n",
    "patientID = test_data['patient_ID']\n",
    "patientID_df = pd.DataFrame(patientID, columns = ['patient_ID'])\n",
    "final_df = pd.concat([patientID_df, results_df], axis=1)\n",
    "\n",
    "final_df"
   ]
  },
  {
   "cell_type": "code",
   "execution_count": 32,
   "metadata": {},
   "outputs": [],
   "source": [
    "final_df.to_csv(\"submission.csv\")"
   ]
  }
 ],
 "metadata": {
  "kernelspec": {
   "display_name": "Python 3.10.9 64-bit (microsoft store)",
   "language": "python",
   "name": "python3"
  },
  "language_info": {
   "codemirror_mode": {
    "name": "ipython",
    "version": 3
   },
   "file_extension": ".py",
   "mimetype": "text/x-python",
   "name": "python",
   "nbconvert_exporter": "python",
   "pygments_lexer": "ipython3",
   "version": "3.10.9"
  },
  "orig_nbformat": 4,
  "vscode": {
   "interpreter": {
    "hash": "66f804da07f0f556d77bc3269dc5bb19edf020422864031af2885e5ff55f9079"
   }
  }
 },
 "nbformat": 4,
 "nbformat_minor": 2
}
